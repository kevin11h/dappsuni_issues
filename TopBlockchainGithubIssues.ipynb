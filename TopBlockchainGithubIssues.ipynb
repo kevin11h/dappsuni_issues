{
 "cells": [
  {
   "cell_type": "markdown",
   "metadata": {},
   "source": [
    "# Notebook Viewer Link"
   ]
  },
  {
   "cell_type": "markdown",
   "metadata": {},
   "source": [
    "http://nbviewer.jupyter.org/github/kevin11h/dappsuni_issues/blob/master/TopBlockchainGithubIssues.ipynb"
   ]
  },
  {
   "cell_type": "markdown",
   "metadata": {},
   "source": [
    "# Toggle Show/Hide Code"
   ]
  },
  {
   "cell_type": "code",
   "execution_count": 2,
   "metadata": {},
   "outputs": [
    {
     "data": {
      "text/html": [
       "<script>\n",
       "code_show=true; \n",
       "function code_toggle() {\n",
       " if (code_show){\n",
       " $('div.input').hide();\n",
       " } else {\n",
       " $('div.input').show();\n",
       " }\n",
       " code_show = !code_show\n",
       "} \n",
       "$( document ).ready(code_toggle);\n",
       "</script>\n",
       "<form action=\"javascript:code_toggle()\"><input type=\"submit\" value=\"Click here to toggle on/off the raw code.\"></form>"
      ],
      "text/plain": [
       "<IPython.core.display.HTML object>"
      ]
     },
     "execution_count": 2,
     "metadata": {},
     "output_type": "execute_result"
    }
   ],
   "source": [
    "from IPython.display import HTML\n",
    "\n",
    "HTML('''<script>\n",
    "code_show=true; \n",
    "function code_toggle() {\n",
    " if (code_show){\n",
    " $('div.input').hide();\n",
    " } else {\n",
    " $('div.input').show();\n",
    " }\n",
    " code_show = !code_show\n",
    "} \n",
    "$( document ).ready(code_toggle);\n",
    "</script>\n",
    "<form action=\"javascript:code_toggle()\"><input type=\"submit\" value=\"Click here to toggle on/off the raw code.\"></form>''')"
   ]
  },
  {
   "cell_type": "code",
   "execution_count": 72,
   "metadata": {},
   "outputs": [],
   "source": [
    "import urllib.request\n",
    "import pandas as pd\n",
    "pd.set_option('display.max_colwidth', -1)"
   ]
  },
  {
   "cell_type": "code",
   "execution_count": 101,
   "metadata": {},
   "outputs": [],
   "source": [
    "blockchain_projects_github_issues_urls = ['https://api.github.com/repos/bitcoin/bitcoin/issues',\n",
    "                                          'https://api.github.com/repos/ethereum/go-ethereum/issues',\n",
    "                                          'https://api.github.com/repos/neo-project/neo/issues',\n",
    "                                          'https://api.github.com/repos/litecoin-project/litecoin/issues',\n",
    "                                          'https://api.github.com/repos/ripple/rippled/issues',\n",
    "                                          ]"
   ]
  },
  {
   "cell_type": "code",
   "execution_count": 93,
   "metadata": {},
   "outputs": [],
   "source": [
    "def get_http_json_response_contents(url):\n",
    "    return urllib.request.urlopen(url).read()"
   ]
  },
  {
   "cell_type": "markdown",
   "metadata": {},
   "source": [
    "# Bitcoin Blockchain Issues"
   ]
  },
  {
   "cell_type": "markdown",
   "metadata": {},
   "source": [
    "http://github.com/bitcoin/bitcoin/issues"
   ]
  },
  {
   "cell_type": "code",
   "execution_count": 94,
   "metadata": {},
   "outputs": [],
   "source": [
    "bitcoin_github_issues_url = blockchain_projects_github_issues_urls[0]\n",
    "bitcoin_github_issues_df = pd.read_json(get_http_json_response_contents(bitcoin_github_issues_url))"
   ]
  },
  {
   "cell_type": "code",
   "execution_count": 109,
   "metadata": {},
   "outputs": [
    {
     "data": {
      "text/html": [
       "<div>\n",
       "<style scoped>\n",
       "    .dataframe tbody tr th:only-of-type {\n",
       "        vertical-align: middle;\n",
       "    }\n",
       "\n",
       "    .dataframe tbody tr th {\n",
       "        vertical-align: top;\n",
       "    }\n",
       "\n",
       "    .dataframe thead th {\n",
       "        text-align: right;\n",
       "    }\n",
       "</style>\n",
       "<table border=\"1\" class=\"dataframe\">\n",
       "  <thead>\n",
       "    <tr style=\"text-align: right;\">\n",
       "      <th></th>\n",
       "      <th>title</th>\n",
       "      <th>html_url</th>\n",
       "      <th>created_at</th>\n",
       "      <th>updated_at</th>\n",
       "    </tr>\n",
       "  </thead>\n",
       "  <tbody>\n",
       "    <tr>\n",
       "      <th>0</th>\n",
       "      <td>depends: Fix libX11 build on gcc 8</td>\n",
       "      <td>https://github.com/bitcoin/bitcoin/pull/12990</td>\n",
       "      <td>2018-04-15 17:54:51</td>\n",
       "      <td>2018-04-15 18:00:28</td>\n",
       "    </tr>\n",
       "    <tr>\n",
       "      <th>1</th>\n",
       "      <td>Problem with decoding transaction</td>\n",
       "      <td>https://github.com/bitcoin/bitcoin/issues/12989</td>\n",
       "      <td>2018-04-15 15:52:08</td>\n",
       "      <td>2018-04-15 18:23:52</td>\n",
       "    </tr>\n",
       "    <tr>\n",
       "      <th>2</th>\n",
       "      <td>Hold cs_main while calling UpdatedBlockTip() signal</td>\n",
       "      <td>https://github.com/bitcoin/bitcoin/pull/12988</td>\n",
       "      <td>2018-04-15 15:25:40</td>\n",
       "      <td>2018-04-15 17:25:02</td>\n",
       "    </tr>\n",
       "    <tr>\n",
       "      <th>3</th>\n",
       "      <td>tests/tools: Enable additional Python flake8 rules for automatic linting via Travis</td>\n",
       "      <td>https://github.com/bitcoin/bitcoin/pull/12987</td>\n",
       "      <td>2018-04-15 11:02:33</td>\n",
       "      <td>2018-04-15 17:19:44</td>\n",
       "    </tr>\n",
       "    <tr>\n",
       "      <th>4</th>\n",
       "      <td>Trivial: Corrected comment array name from pnSeeds6 to pnSeed6</td>\n",
       "      <td>https://github.com/bitcoin/bitcoin/pull/12986</td>\n",
       "      <td>2018-04-14 23:22:47</td>\n",
       "      <td>2018-04-15 05:59:30</td>\n",
       "    </tr>\n",
       "  </tbody>\n",
       "</table>\n",
       "</div>"
      ],
      "text/plain": [
       "                                                                                 title                                         html_url          created_at          updated_at\n",
       "0  depends: Fix libX11 build on gcc 8                                                   https://github.com/bitcoin/bitcoin/pull/12990   2018-04-15 17:54:51 2018-04-15 18:00:28\n",
       "1  Problem with decoding transaction                                                    https://github.com/bitcoin/bitcoin/issues/12989 2018-04-15 15:52:08 2018-04-15 18:23:52\n",
       "2  Hold cs_main while calling UpdatedBlockTip() signal                                  https://github.com/bitcoin/bitcoin/pull/12988   2018-04-15 15:25:40 2018-04-15 17:25:02\n",
       "3  tests/tools: Enable additional Python flake8 rules for automatic linting via Travis  https://github.com/bitcoin/bitcoin/pull/12987   2018-04-15 11:02:33 2018-04-15 17:19:44\n",
       "4  Trivial: Corrected comment array name from pnSeeds6 to pnSeed6                       https://github.com/bitcoin/bitcoin/pull/12986   2018-04-14 23:22:47 2018-04-15 05:59:30"
      ]
     },
     "execution_count": 109,
     "metadata": {},
     "output_type": "execute_result"
    }
   ],
   "source": [
    "bitcoin_github_issues_df[['title', 'html_url', 'created_at','updated_at']].head()"
   ]
  },
  {
   "cell_type": "markdown",
   "metadata": {},
   "source": [
    "# Ethereum Blockchain Issues"
   ]
  },
  {
   "cell_type": "markdown",
   "metadata": {},
   "source": [
    "http://github.com/ethereum/go-ethereum/issues"
   ]
  },
  {
   "cell_type": "code",
   "execution_count": 96,
   "metadata": {},
   "outputs": [],
   "source": [
    "ethereum_github_issues_url = blockchain_projects_github_issues_urls[1]\n",
    "ethereum_github_issues_df  = pd.read_json(get_http_json_response_contents(ethereum_github_issues_url))"
   ]
  },
  {
   "cell_type": "code",
   "execution_count": 116,
   "metadata": {},
   "outputs": [
    {
     "data": {
      "text/html": [
       "<div>\n",
       "<style scoped>\n",
       "    .dataframe tbody tr th:only-of-type {\n",
       "        vertical-align: middle;\n",
       "    }\n",
       "\n",
       "    .dataframe tbody tr th {\n",
       "        vertical-align: top;\n",
       "    }\n",
       "\n",
       "    .dataframe thead th {\n",
       "        text-align: right;\n",
       "    }\n",
       "</style>\n",
       "<table border=\"1\" class=\"dataframe\">\n",
       "  <thead>\n",
       "    <tr style=\"text-align: right;\">\n",
       "      <th></th>\n",
       "      <th>title</th>\n",
       "      <th>html_url</th>\n",
       "      <th>created_at</th>\n",
       "      <th>updated_at</th>\n",
       "    </tr>\n",
       "  </thead>\n",
       "  <tbody>\n",
       "    <tr>\n",
       "      <th>0</th>\n",
       "      <td>Ctrl-C in combination with js causes unclean shutdown</td>\n",
       "      <td>https://github.com/ethereum/go-ethereum/issues/16506</td>\n",
       "      <td>2018-04-15 13:41:25</td>\n",
       "      <td>2018-04-15 13:41:25</td>\n",
       "    </tr>\n",
       "    <tr>\n",
       "      <th>1</th>\n",
       "      <td>geth --syncmode 'light' : Not sync chain data</td>\n",
       "      <td>https://github.com/ethereum/go-ethereum/issues/16504</td>\n",
       "      <td>2018-04-15 08:56:56</td>\n",
       "      <td>2018-04-15 08:56:56</td>\n",
       "    </tr>\n",
       "    <tr>\n",
       "      <th>2</th>\n",
       "      <td>accounts: support trezor passphrases</td>\n",
       "      <td>https://github.com/ethereum/go-ethereum/pull/16503</td>\n",
       "      <td>2018-04-14 08:41:10</td>\n",
       "      <td>2018-04-14 08:41:10</td>\n",
       "    </tr>\n",
       "    <tr>\n",
       "      <th>3</th>\n",
       "      <td>geth in private network, Out of Memory even after using up 8 GB RAM + 100 GB swapfile</td>\n",
       "      <td>https://github.com/ethereum/go-ethereum/issues/16501</td>\n",
       "      <td>2018-04-13 16:48:23</td>\n",
       "      <td>2018-04-15 13:44:15</td>\n",
       "    </tr>\n",
       "    <tr>\n",
       "      <th>4</th>\n",
       "      <td>rpc: handle rpc (client) response error codes</td>\n",
       "      <td>https://github.com/ethereum/go-ethereum/pull/16500</td>\n",
       "      <td>2018-04-13 08:36:56</td>\n",
       "      <td>2018-04-13 17:14:33</td>\n",
       "    </tr>\n",
       "  </tbody>\n",
       "</table>\n",
       "</div>"
      ],
      "text/plain": [
       "                                                                                   title                                              html_url          created_at          updated_at\n",
       "0  Ctrl-C in combination with js causes unclean shutdown                                  https://github.com/ethereum/go-ethereum/issues/16506 2018-04-15 13:41:25 2018-04-15 13:41:25\n",
       "1  geth --syncmode 'light' : Not sync chain data                                          https://github.com/ethereum/go-ethereum/issues/16504 2018-04-15 08:56:56 2018-04-15 08:56:56\n",
       "2  accounts: support trezor passphrases                                                   https://github.com/ethereum/go-ethereum/pull/16503   2018-04-14 08:41:10 2018-04-14 08:41:10\n",
       "3  geth in private network, Out of Memory even after using up 8 GB RAM + 100 GB swapfile  https://github.com/ethereum/go-ethereum/issues/16501 2018-04-13 16:48:23 2018-04-15 13:44:15\n",
       "4  rpc: handle rpc (client) response error codes                                          https://github.com/ethereum/go-ethereum/pull/16500   2018-04-13 08:36:56 2018-04-13 17:14:33"
      ]
     },
     "execution_count": 116,
     "metadata": {},
     "output_type": "execute_result"
    }
   ],
   "source": [
    "ethereum_github_issues_df[['title', 'html_url', 'created_at','updated_at']].head()"
   ]
  },
  {
   "cell_type": "markdown",
   "metadata": {},
   "source": [
    "# Neo Blockchain Issues"
   ]
  },
  {
   "cell_type": "markdown",
   "metadata": {},
   "source": [
    "http://github.com/repos/neo-project/neo/issues"
   ]
  },
  {
   "cell_type": "code",
   "execution_count": 102,
   "metadata": {},
   "outputs": [],
   "source": [
    "neo_github_issues_url = blockchain_projects_github_issues_urls[2]\n",
    "neo_github_issues_df  = pd.read_json(get_http_json_response_contents(neo_github_issues_url))"
   ]
  },
  {
   "cell_type": "code",
   "execution_count": 111,
   "metadata": {},
   "outputs": [
    {
     "data": {
      "text/html": [
       "<div>\n",
       "<style scoped>\n",
       "    .dataframe tbody tr th:only-of-type {\n",
       "        vertical-align: middle;\n",
       "    }\n",
       "\n",
       "    .dataframe tbody tr th {\n",
       "        vertical-align: top;\n",
       "    }\n",
       "\n",
       "    .dataframe thead th {\n",
       "        text-align: right;\n",
       "    }\n",
       "</style>\n",
       "<table border=\"1\" class=\"dataframe\">\n",
       "  <thead>\n",
       "    <tr style=\"text-align: right;\">\n",
       "      <th></th>\n",
       "      <th>title</th>\n",
       "      <th>html_url</th>\n",
       "      <th>created_at</th>\n",
       "      <th>updated_at</th>\n",
       "    </tr>\n",
       "  </thead>\n",
       "  <tbody>\n",
       "    <tr>\n",
       "      <th>0</th>\n",
       "      <td>neo-cli memory leak</td>\n",
       "      <td>https://github.com/neo-project/neo/issues/216</td>\n",
       "      <td>2018-04-14 19:25:35</td>\n",
       "      <td>2018-04-15 06:24:01</td>\n",
       "    </tr>\n",
       "    <tr>\n",
       "      <th>1</th>\n",
       "      <td>Update ConsensusService.cs</td>\n",
       "      <td>https://github.com/neo-project/neo/pull/211</td>\n",
       "      <td>2018-03-30 17:13:52</td>\n",
       "      <td>2018-03-30 19:49:45</td>\n",
       "    </tr>\n",
       "    <tr>\n",
       "      <th>2</th>\n",
       "      <td>Removed UIntBase to avoid expensive virtual calls for base data type classes</td>\n",
       "      <td>https://github.com/neo-project/neo/pull/206</td>\n",
       "      <td>2018-03-26 19:49:28</td>\n",
       "      <td>2018-04-02 05:41:26</td>\n",
       "    </tr>\n",
       "    <tr>\n",
       "      <th>3</th>\n",
       "      <td>Chinese code summary and comments (XML Documentation)</td>\n",
       "      <td>https://github.com/neo-project/neo/issues/203</td>\n",
       "      <td>2018-03-24 20:32:34</td>\n",
       "      <td>2018-03-26 08:54:28</td>\n",
       "    </tr>\n",
       "    <tr>\n",
       "      <th>4</th>\n",
       "      <td>Gas transaction Unspent What i do now</td>\n",
       "      <td>https://github.com/neo-project/neo/issues/197</td>\n",
       "      <td>2018-03-16 15:39:44</td>\n",
       "      <td>2018-03-20 06:55:39</td>\n",
       "    </tr>\n",
       "  </tbody>\n",
       "</table>\n",
       "</div>"
      ],
      "text/plain": [
       "                                                                          title                                       html_url          created_at          updated_at\n",
       "0  neo-cli memory leak                                                           https://github.com/neo-project/neo/issues/216 2018-04-14 19:25:35 2018-04-15 06:24:01\n",
       "1  Update ConsensusService.cs                                                    https://github.com/neo-project/neo/pull/211   2018-03-30 17:13:52 2018-03-30 19:49:45\n",
       "2  Removed UIntBase to avoid expensive virtual calls for base data type classes  https://github.com/neo-project/neo/pull/206   2018-03-26 19:49:28 2018-04-02 05:41:26\n",
       "3  Chinese code summary and comments (XML Documentation)                         https://github.com/neo-project/neo/issues/203 2018-03-24 20:32:34 2018-03-26 08:54:28\n",
       "4  Gas transaction Unspent What i do now                                         https://github.com/neo-project/neo/issues/197 2018-03-16 15:39:44 2018-03-20 06:55:39"
      ]
     },
     "execution_count": 111,
     "metadata": {},
     "output_type": "execute_result"
    }
   ],
   "source": [
    "neo_github_issues_df[['title', 'html_url', 'created_at','updated_at']].head()"
   ]
  },
  {
   "cell_type": "markdown",
   "metadata": {},
   "source": [
    "# Litecoin Blockchain Issues"
   ]
  },
  {
   "cell_type": "markdown",
   "metadata": {},
   "source": [
    "http://github.com/litecoin-project/litecoin/issues"
   ]
  },
  {
   "cell_type": "code",
   "execution_count": 105,
   "metadata": {},
   "outputs": [],
   "source": [
    "litecoin_github_issues_url = blockchain_projects_github_issues_urls[3]\n",
    "litecoin_github_issues_df  = pd.read_json(get_http_json_response_contents(litecoin_github_issues_url))"
   ]
  },
  {
   "cell_type": "code",
   "execution_count": 110,
   "metadata": {},
   "outputs": [
    {
     "data": {
      "text/html": [
       "<div>\n",
       "<style scoped>\n",
       "    .dataframe tbody tr th:only-of-type {\n",
       "        vertical-align: middle;\n",
       "    }\n",
       "\n",
       "    .dataframe tbody tr th {\n",
       "        vertical-align: top;\n",
       "    }\n",
       "\n",
       "    .dataframe thead th {\n",
       "        text-align: right;\n",
       "    }\n",
       "</style>\n",
       "<table border=\"1\" class=\"dataframe\">\n",
       "  <thead>\n",
       "    <tr style=\"text-align: right;\">\n",
       "      <th></th>\n",
       "      <th>title</th>\n",
       "      <th>html_url</th>\n",
       "      <th>created_at</th>\n",
       "      <th>updated_at</th>\n",
       "    </tr>\n",
       "  </thead>\n",
       "  <tbody>\n",
       "    <tr>\n",
       "      <th>0</th>\n",
       "      <td>testnet.litecointools.com giving production address and showing 0 balance</td>\n",
       "      <td>https://github.com/litecoin-project/litecoin/issues/468</td>\n",
       "      <td>2018-04-13 14:35:32</td>\n",
       "      <td>2018-04-13 14:35:32</td>\n",
       "    </tr>\n",
       "    <tr>\n",
       "      <th>1</th>\n",
       "      <td>-addresstype=legacy argument not work for createmultisig.</td>\n",
       "      <td>https://github.com/litecoin-project/litecoin/issues/467</td>\n",
       "      <td>2018-04-12 14:11:47</td>\n",
       "      <td>2018-04-12 14:12:28</td>\n",
       "    </tr>\n",
       "    <tr>\n",
       "      <th>2</th>\n",
       "      <td>Pool 0 slow/down or URL or credentials invalid</td>\n",
       "      <td>https://github.com/litecoin-project/litecoin/issues/466</td>\n",
       "      <td>2018-04-11 09:02:08</td>\n",
       "      <td>2018-04-11 09:02:08</td>\n",
       "    </tr>\n",
       "    <tr>\n",
       "      <th>3</th>\n",
       "      <td>Update README.md</td>\n",
       "      <td>https://github.com/litecoin-project/litecoin/pull/465</td>\n",
       "      <td>2018-04-11 02:12:46</td>\n",
       "      <td>2018-04-11 02:16:54</td>\n",
       "    </tr>\n",
       "    <tr>\n",
       "      <th>4</th>\n",
       "      <td>addwitnessaddress report Segregated witness not enabled on network.</td>\n",
       "      <td>https://github.com/litecoin-project/litecoin/issues/464</td>\n",
       "      <td>2018-04-09 04:06:20</td>\n",
       "      <td>2018-04-09 04:56:55</td>\n",
       "    </tr>\n",
       "  </tbody>\n",
       "</table>\n",
       "</div>"
      ],
      "text/plain": [
       "                                                                       title                                                 html_url          created_at          updated_at\n",
       "0  testnet.litecointools.com giving production address and showing 0 balance  https://github.com/litecoin-project/litecoin/issues/468 2018-04-13 14:35:32 2018-04-13 14:35:32\n",
       "1  -addresstype=legacy argument not work for createmultisig.                  https://github.com/litecoin-project/litecoin/issues/467 2018-04-12 14:11:47 2018-04-12 14:12:28\n",
       "2  Pool 0 slow/down or URL or credentials invalid                             https://github.com/litecoin-project/litecoin/issues/466 2018-04-11 09:02:08 2018-04-11 09:02:08\n",
       "3  Update README.md                                                           https://github.com/litecoin-project/litecoin/pull/465   2018-04-11 02:12:46 2018-04-11 02:16:54\n",
       "4  addwitnessaddress report Segregated witness not enabled on network.        https://github.com/litecoin-project/litecoin/issues/464 2018-04-09 04:06:20 2018-04-09 04:56:55"
      ]
     },
     "execution_count": 110,
     "metadata": {},
     "output_type": "execute_result"
    }
   ],
   "source": [
    "litecoin_github_issues_df[['title', 'html_url', 'created_at','updated_at']].head()"
   ]
  },
  {
   "cell_type": "markdown",
   "metadata": {},
   "source": [
    "# Ripple Blockchain Issues"
   ]
  },
  {
   "cell_type": "markdown",
   "metadata": {},
   "source": [
    "http://github.com/ripple/rippled/issues"
   ]
  },
  {
   "cell_type": "code",
   "execution_count": 107,
   "metadata": {},
   "outputs": [],
   "source": [
    "ripple_github_issues_url = blockchain_projects_github_issues_urls[4]\n",
    "ripple_github_issues_df  = pd.read_json(get_http_json_response_contents(ripple_github_issues_url))"
   ]
  },
  {
   "cell_type": "code",
   "execution_count": 112,
   "metadata": {},
   "outputs": [
    {
     "data": {
      "text/html": [
       "<div>\n",
       "<style scoped>\n",
       "    .dataframe tbody tr th:only-of-type {\n",
       "        vertical-align: middle;\n",
       "    }\n",
       "\n",
       "    .dataframe tbody tr th {\n",
       "        vertical-align: top;\n",
       "    }\n",
       "\n",
       "    .dataframe thead th {\n",
       "        text-align: right;\n",
       "    }\n",
       "</style>\n",
       "<table border=\"1\" class=\"dataframe\">\n",
       "  <thead>\n",
       "    <tr style=\"text-align: right;\">\n",
       "      <th></th>\n",
       "      <th>title</th>\n",
       "      <th>html_url</th>\n",
       "      <th>created_at</th>\n",
       "      <th>updated_at</th>\n",
       "    </tr>\n",
       "  </thead>\n",
       "  <tbody>\n",
       "    <tr>\n",
       "      <th>0</th>\n",
       "      <td>enable sign-compare warnings</td>\n",
       "      <td>https://github.com/ripple/rippled/issues/2479</td>\n",
       "      <td>2018-04-13 10:35:58</td>\n",
       "      <td>2018-04-13 10:36:37</td>\n",
       "    </tr>\n",
       "    <tr>\n",
       "      <th>1</th>\n",
       "      <td>Refactor ledger replay logic (RIPD-1547)</td>\n",
       "      <td>https://github.com/ripple/rippled/pull/2477</td>\n",
       "      <td>2018-04-11 13:45:52</td>\n",
       "      <td>2018-04-13 12:51:02</td>\n",
       "    </tr>\n",
       "    <tr>\n",
       "      <th>2</th>\n",
       "      <td>The rippled server have been in a cycle that synced completely and re-synce legder from the first one</td>\n",
       "      <td>https://github.com/ripple/rippled/issues/2476</td>\n",
       "      <td>2018-04-11 11:53:42</td>\n",
       "      <td>2018-04-13 15:09:19</td>\n",
       "    </tr>\n",
       "    <tr>\n",
       "      <th>3</th>\n",
       "      <td>Fixes for PerfLog unit test in a Docker container</td>\n",
       "      <td>https://github.com/ripple/rippled/pull/2475</td>\n",
       "      <td>2018-04-10 19:53:43</td>\n",
       "      <td>2018-04-11 22:04:42</td>\n",
       "    </tr>\n",
       "    <tr>\n",
       "      <th>4</th>\n",
       "      <td>Beast accepted into Boost</td>\n",
       "      <td>https://github.com/ripple/rippled/pull/2472</td>\n",
       "      <td>2018-04-07 06:59:33</td>\n",
       "      <td>2018-04-08 07:57:22</td>\n",
       "    </tr>\n",
       "  </tbody>\n",
       "</table>\n",
       "</div>"
      ],
      "text/plain": [
       "                                                                                                   title                                       html_url          created_at          updated_at\n",
       "0  enable sign-compare warnings                                                                           https://github.com/ripple/rippled/issues/2479 2018-04-13 10:35:58 2018-04-13 10:36:37\n",
       "1   Refactor ledger replay logic (RIPD-1547)                                                              https://github.com/ripple/rippled/pull/2477   2018-04-11 13:45:52 2018-04-13 12:51:02\n",
       "2  The rippled server have been in a cycle that synced completely and re-synce legder from the first one  https://github.com/ripple/rippled/issues/2476 2018-04-11 11:53:42 2018-04-13 15:09:19\n",
       "3  Fixes for PerfLog unit test in a Docker container                                                      https://github.com/ripple/rippled/pull/2475   2018-04-10 19:53:43 2018-04-11 22:04:42\n",
       "4  Beast accepted into Boost                                                                              https://github.com/ripple/rippled/pull/2472   2018-04-07 06:59:33 2018-04-08 07:57:22"
      ]
     },
     "execution_count": 112,
     "metadata": {},
     "output_type": "execute_result"
    }
   ],
   "source": [
    "ripple_github_issues_df[['title', 'html_url', 'created_at','updated_at']].head()"
   ]
  },
  {
   "cell_type": "code",
   "execution_count": null,
   "metadata": {},
   "outputs": [],
   "source": []
  }
 ],
 "metadata": {
  "kernelspec": {
   "display_name": "Python 3",
   "language": "python",
   "name": "python3"
  },
  "language_info": {
   "codemirror_mode": {
    "name": "ipython",
    "version": 3
   },
   "file_extension": ".py",
   "mimetype": "text/x-python",
   "name": "python",
   "nbconvert_exporter": "python",
   "pygments_lexer": "ipython3",
   "version": "3.6.4"
  }
 },
 "nbformat": 4,
 "nbformat_minor": 2
}
